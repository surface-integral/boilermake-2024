{
 "cells": [
  {
   "cell_type": "code",
   "execution_count": 9,
   "metadata": {},
   "outputs": [],
   "source": [
    "from PIL import Image\n",
    "import pytesseract"
   ]
  },
  {
   "cell_type": "code",
   "execution_count": 13,
   "metadata": {},
   "outputs": [],
   "source": [
    "img = Image.open(\"test.jpg\")\n",
    "img.show()\n"
   ]
  },
  {
   "cell_type": "code",
   "execution_count": 24,
   "metadata": {},
   "outputs": [
    {
     "name": "stdout",
     "output_type": "stream",
     "text": [
      "PRACTICE AND PROBLEM SOLVING\n",
      "Solve each inequality and graph the solutions. a\n",
      "7. a-322 8.25>q-08 9, 45+ x<-30 10. r+ 4 <4\n",
      "\n",
      "11. Engineering The maximum load for a certain elevator is 2000 pounds. The total\n",
      "weight of the passengers on the elevator is 1400 pounds. A delivery man who weighs\n",
      "243 pounds enters the elevator with a crate of weight w. Write, solve, and graph an\n",
      "inequality to show the values of w that will not exceed the weight limit of the elevator.\n",
      "\n",
      "12. Transportation The gas tank in Mindy’s car holds at most 15 gallons. She has\n",
      "already filled the tank with 7 gallons of gas. She will continue to fill the tank with\n",
      "ggallons more. Write and solve an inequality that shows all values of g that\n",
      "\n",
      "Mindy can add to the car's tank.\n",
      "\n",
      "\n"
     ]
    }
   ],
   "source": [
    "text = pytesseract.image_to_string(img)\n",
    "print(text, sep=\"\")"
   ]
  },
  {
   "cell_type": "code",
   "execution_count": null,
   "metadata": {},
   "outputs": [],
   "source": []
  }
 ],
 "metadata": {
  "kernelspec": {
   "display_name": "Python 3",
   "language": "python",
   "name": "python3"
  },
  "language_info": {
   "codemirror_mode": {
    "name": "ipython",
    "version": 3
   },
   "file_extension": ".py",
   "mimetype": "text/x-python",
   "name": "python",
   "nbconvert_exporter": "python",
   "pygments_lexer": "ipython3",
   "version": "3.11.7"
  },
  "orig_nbformat": 4
 },
 "nbformat": 4,
 "nbformat_minor": 2
}
